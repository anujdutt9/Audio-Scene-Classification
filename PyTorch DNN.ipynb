{
 "cells": [
  {
   "cell_type": "code",
   "execution_count": 1,
   "metadata": {},
   "outputs": [],
   "source": [
    "# Import Dependencies\n",
    "import pickle\n",
    "import numpy as np\n",
    "import torch\n",
    "from torch import optim\n",
    "import numpy as np\n",
    "import torch.nn as nn\n",
    "import torch.nn.functional as F\n",
    "from torch.autograd import Variable\n",
    "import matplotlib.pyplot as plt\n",
    "%matplotlib inline"
   ]
  },
  {
   "cell_type": "code",
   "execution_count": 2,
   "metadata": {},
   "outputs": [
    {
     "name": "stdout",
     "output_type": "stream",
     "text": [
      "Done loading data...\n"
     ]
    }
   ],
   "source": [
    "# Load Saved Data Train and Test\n",
    "with open('./trainingData/trainingFeatures.pkl', 'rb') as file:\n",
    "    X_train = pickle.load(file)\n",
    "\n",
    "with open('./trainingData/trainingLabels.pkl', 'rb') as file:\n",
    "    y_train = pickle.load(file)\n",
    "            \n",
    "with open('./testingData/testFeatures.pkl', 'rb') as file:\n",
    "    X_test = pickle.load(file)\n",
    "            \n",
    "with open('./testingData/testingLabels.pkl', 'rb') as file:\n",
    "    y_test = pickle.load(file)\n",
    "    \n",
    "print('Done loading data...')"
   ]
  },
  {
   "cell_type": "code",
   "execution_count": 3,
   "metadata": {},
   "outputs": [
    {
     "data": {
      "text/plain": [
       "(2467, 193)"
      ]
     },
     "execution_count": 3,
     "metadata": {},
     "output_type": "execute_result"
    }
   ],
   "source": [
    "X_train.shape"
   ]
  },
  {
   "cell_type": "code",
   "execution_count": 4,
   "metadata": {},
   "outputs": [
    {
     "data": {
      "text/plain": [
       "(2467, 10)"
      ]
     },
     "execution_count": 4,
     "metadata": {},
     "output_type": "execute_result"
    }
   ],
   "source": [
    "y_train.shape"
   ]
  },
  {
   "cell_type": "code",
   "execution_count": 5,
   "metadata": {},
   "outputs": [
    {
     "data": {
      "text/plain": [
       "(816, 193)"
      ]
     },
     "execution_count": 5,
     "metadata": {},
     "output_type": "execute_result"
    }
   ],
   "source": [
    "X_test.shape"
   ]
  },
  {
   "cell_type": "code",
   "execution_count": 6,
   "metadata": {},
   "outputs": [
    {
     "data": {
      "text/plain": [
       "(816, 10)"
      ]
     },
     "execution_count": 6,
     "metadata": {},
     "output_type": "execute_result"
    }
   ],
   "source": [
    "y_test.shape"
   ]
  },
  {
   "cell_type": "code",
   "execution_count": 7,
   "metadata": {},
   "outputs": [
    {
     "data": {
      "text/plain": [
       "(2467, 193)"
      ]
     },
     "execution_count": 7,
     "metadata": {},
     "output_type": "execute_result"
    }
   ],
   "source": [
    "# Convert to Numpy to Torch Tensor\n",
    "X_train = np.asarray(X_train)\n",
    "X_train.shape"
   ]
  },
  {
   "cell_type": "code",
   "execution_count": 8,
   "metadata": {},
   "outputs": [
    {
     "data": {
      "text/plain": [
       "numpy.ndarray"
      ]
     },
     "execution_count": 8,
     "metadata": {},
     "output_type": "execute_result"
    }
   ],
   "source": [
    "type(X_train)"
   ]
  },
  {
   "cell_type": "code",
   "execution_count": 9,
   "metadata": {},
   "outputs": [
    {
     "data": {
      "text/plain": [
       "numpy.ndarray"
      ]
     },
     "execution_count": 9,
     "metadata": {},
     "output_type": "execute_result"
    }
   ],
   "source": [
    "X_test = np.asarray(X_test)\n",
    "type(X_test)"
   ]
  },
  {
   "cell_type": "code",
   "execution_count": 10,
   "metadata": {},
   "outputs": [
    {
     "data": {
      "text/plain": [
       "numpy.ndarray"
      ]
     },
     "execution_count": 10,
     "metadata": {},
     "output_type": "execute_result"
    }
   ],
   "source": [
    "y_train = np.asarray(y_train)\n",
    "type(y_train)"
   ]
  },
  {
   "cell_type": "code",
   "execution_count": 11,
   "metadata": {},
   "outputs": [
    {
     "data": {
      "text/plain": [
       "numpy.ndarray"
      ]
     },
     "execution_count": 11,
     "metadata": {},
     "output_type": "execute_result"
    }
   ],
   "source": [
    "y_test = np.asarray(y_test)\n",
    "type(y_test)"
   ]
  },
  {
   "cell_type": "code",
   "execution_count": 12,
   "metadata": {},
   "outputs": [],
   "source": [
    "# Convert to Torch Tensors\n",
    "X_train = torch.from_numpy(X_train)\n",
    "y_train = torch.from_numpy(y_train)\n",
    "\n",
    "X_test = torch.from_numpy(X_test)\n",
    "y_test = torch.from_numpy(y_test)"
   ]
  },
  {
   "cell_type": "code",
   "execution_count": 13,
   "metadata": {},
   "outputs": [
    {
     "data": {
      "text/plain": [
       "torch.Tensor"
      ]
     },
     "execution_count": 13,
     "metadata": {},
     "output_type": "execute_result"
    }
   ],
   "source": [
    "# Confirm types of training and test data\n",
    "type(X_train)"
   ]
  },
  {
   "cell_type": "code",
   "execution_count": 14,
   "metadata": {},
   "outputs": [
    {
     "data": {
      "text/plain": [
       "torch.Tensor"
      ]
     },
     "execution_count": 14,
     "metadata": {},
     "output_type": "execute_result"
    }
   ],
   "source": [
    "# Confirm types of training and test data\n",
    "type(y_train)"
   ]
  },
  {
   "cell_type": "code",
   "execution_count": 15,
   "metadata": {},
   "outputs": [
    {
     "data": {
      "text/plain": [
       "torch.Tensor"
      ]
     },
     "execution_count": 15,
     "metadata": {},
     "output_type": "execute_result"
    }
   ],
   "source": [
    "# Confirm types of training and test data\n",
    "type(X_test)"
   ]
  },
  {
   "cell_type": "code",
   "execution_count": 16,
   "metadata": {},
   "outputs": [
    {
     "data": {
      "text/plain": [
       "torch.Tensor"
      ]
     },
     "execution_count": 16,
     "metadata": {},
     "output_type": "execute_result"
    }
   ],
   "source": [
    "# Confirm types of training and test data\n",
    "type(y_test)"
   ]
  },
  {
   "cell_type": "code",
   "execution_count": 17,
   "metadata": {},
   "outputs": [],
   "source": [
    "# Convert Torch Tensor Data Type to Float Tensor\n",
    "X_train = X_train.type(torch.FloatTensor)\n",
    "y_train = y_train.type(torch.LongTensor)\n",
    "\n",
    "X_test = X_test.type(torch.FloatTensor)\n",
    "y_test = y_test.type(torch.LongTensor)"
   ]
  },
  {
   "cell_type": "code",
   "execution_count": 18,
   "metadata": {},
   "outputs": [
    {
     "data": {
      "text/plain": [
       "<torch._C.Generator at 0x126e864f0>"
      ]
     },
     "execution_count": 18,
     "metadata": {},
     "output_type": "execute_result"
    }
   ],
   "source": [
    "# Set Seed in Torch\n",
    "torch.manual_seed(1)"
   ]
  },
  {
   "cell_type": "code",
   "execution_count": 19,
   "metadata": {},
   "outputs": [],
   "source": [
    "# Define a Simple Neural Network and Train it\n",
    "# Neural Network Class\n",
    "class BasicNN(nn.Module):\n",
    "    \n",
    "    # Initializer Function\n",
    "    def __init__(self, num_features, num_hidden1, num_hidden2, num_output):\n",
    "        super(BasicNN, self).__init__()\n",
    "        # Initialize input to hidden layer 1\n",
    "        self.hidden1 = torch.nn.Linear(num_features, num_hidden1)\n",
    "        # Hidden Layer 2\n",
    "        self.hidden2 = torch.nn.Linear(num_hidden1, num_hidden2)\n",
    "        # Initilize hidden layer to output\n",
    "        self.output = torch.nn.Linear(num_hidden2, num_output)\n",
    "        \n",
    "    # Forward Pass\n",
    "    def forward(self,x):\n",
    "        # Apply activation function to hidden layer 1\n",
    "        x = F.relu(self.hidden1(x))\n",
    "        # Apply activation function to hidden layer 2\n",
    "        x = F.relu(self.hidden2(x))\n",
    "        # Linear Output\n",
    "        x = self.output(x)\n",
    "        return F.log_softmax(x)"
   ]
  },
  {
   "cell_type": "code",
   "execution_count": 20,
   "metadata": {},
   "outputs": [],
   "source": [
    "# Create an Instance of the Network\n",
    "model = BasicNN(num_features = X_train.shape[1], num_hidden1=280, num_hidden2=300, num_output=10)"
   ]
  },
  {
   "cell_type": "code",
   "execution_count": 21,
   "metadata": {},
   "outputs": [
    {
     "name": "stdout",
     "output_type": "stream",
     "text": [
      "BasicNN(\n",
      "  (hidden1): Linear(in_features=193, out_features=280, bias=True)\n",
      "  (hidden2): Linear(in_features=280, out_features=300, bias=True)\n",
      "  (output): Linear(in_features=300, out_features=10, bias=True)\n",
      ")\n"
     ]
    }
   ],
   "source": [
    "print(model)"
   ]
  },
  {
   "cell_type": "code",
   "execution_count": 22,
   "metadata": {},
   "outputs": [],
   "source": [
    "# Learning Rate\n",
    "learning_rate = 0.01"
   ]
  },
  {
   "cell_type": "code",
   "execution_count": 23,
   "metadata": {},
   "outputs": [],
   "source": [
    "# Define Optimizer: Stochastic Gradient Descent\n",
    "# model.parameters(): Passes all the parameters of network to optimizer\n",
    "optimizer = optim.Adam(model.parameters(), lr=learning_rate)\n",
    "\n",
    "# Define Loss Function: Negative Log Likelihood\n",
    "loss_func = nn.NLLLoss()\n",
    "\n",
    "# loss history\n",
    "cost = []"
   ]
  },
  {
   "cell_type": "code",
   "execution_count": 24,
   "metadata": {},
   "outputs": [],
   "source": [
    "# Batch Size\n",
    "batch_size = 10\n",
    "\n",
    "# Epochs\n",
    "epochs = 100"
   ]
  },
  {
   "cell_type": "code",
   "execution_count": 25,
   "metadata": {},
   "outputs": [],
   "source": [
    "# Save NN Function\n",
    "def trainAndSaveNN():\n",
    "    # Num Correct Labels\n",
    "    num_correct = 0\n",
    "    # Total Predictions\n",
    "    total = 0\n",
    "    \n",
    "    for epoch in range(epochs):\n",
    "        # Predicted Output\n",
    "        y_hat = model(X_train)\n",
    "        \n",
    "        # Loss\n",
    "        loss = loss_func(y_hat, torch.max(y_train, 1)[1])\n",
    "        \n",
    "        # Clear the Gradients\n",
    "        optimizer.zero_grad()\n",
    "        \n",
    "        # Back Propagation\n",
    "        loss.backward()\n",
    "        \n",
    "        # Optimize\n",
    "        optimizer.step()\n",
    "        \n",
    "        if epoch%10 == 0:\n",
    "            # We don't need to backpropagate or find gradients, so turn it Off\n",
    "            with torch.no_grad():\n",
    "                # Get Model prediction on images\n",
    "                y_out = model(X_test)\n",
    "                # Get max probb value for each prediction made\n",
    "                y_pred = torch.max(y_out, 1)[1]\n",
    "                # total number of Labels in test set\n",
    "                total += y_test.size(0)\n",
    "                # Test Labels\n",
    "                y_actual = torch.max(y_test,1)[1]\n",
    "                # Number of correct predictions\n",
    "                num_correct += (y_pred == y_actual).sum().item()\n",
    "            # Append Loss to History\n",
    "            cost.append(loss.item())\n",
    "            print(\"Epoch: {0}\\t Loss: {1}\\t Model Accuracy: {2}\".format(epoch,loss.item(), 100*num_correct/total))\n",
    "    \n",
    "    # Save the Trained Model\n",
    "    # 1. Save entire Neural Network\n",
    "    torch.save(model, './saved_model/saved_model.pkl')\n",
    "    print(\"\\nModel Saved at ./saved_model/saved_model.pkl...\\n\")\n",
    "    \n",
    "    # 2. Save only the Parameters i.e Weights & Biases\n",
    "    torch.save(model.state_dict(), './saved_model/saved_model_params.pkl')\n",
    "    print(\"Model Parameters Saved at ./saved_model/saved_model_params.pkl...\\n\")"
   ]
  },
  {
   "cell_type": "code",
   "execution_count": 26,
   "metadata": {},
   "outputs": [
    {
     "name": "stdout",
     "output_type": "stream",
     "text": [
      "Epoch: 0\t Loss: 4.380875110626221\t Model Accuracy: 10.53921568627451\n"
     ]
    },
    {
     "name": "stderr",
     "output_type": "stream",
     "text": [
      "/Users/anujdutt/miniconda3/envs/deeplearning/lib/python3.6/site-packages/ipykernel_launcher.py:23: UserWarning: Implicit dimension choice for log_softmax has been deprecated. Change the call to include dim=X as an argument.\n"
     ]
    },
    {
     "name": "stdout",
     "output_type": "stream",
     "text": [
      "Epoch: 10\t Loss: 1.9264763593673706\t Model Accuracy: 20.220588235294116\n",
      "Epoch: 20\t Loss: 0.9903551340103149\t Model Accuracy: 28.390522875816995\n",
      "Epoch: 30\t Loss: 0.5257747173309326\t Model Accuracy: 33.42524509803921\n",
      "Epoch: 40\t Loss: 0.28827640414237976\t Model Accuracy: 36.39705882352941\n",
      "Epoch: 50\t Loss: 0.16766346991062164\t Model Accuracy: 38.13316993464052\n",
      "Epoch: 60\t Loss: 0.09498059004545212\t Model Accuracy: 39.128151260504204\n",
      "Epoch: 70\t Loss: 0.0525101013481617\t Model Accuracy: 39.966299019607845\n",
      "Epoch: 80\t Loss: 0.027769211679697037\t Model Accuracy: 40.49564270152506\n",
      "Epoch: 90\t Loss: 0.01503794826567173\t Model Accuracy: 40.98039215686274\n",
      "\n",
      "Model Saved at ./saved_model/saved_model.pkl...\n",
      "\n",
      "Model Parameters Saved at ./saved_model/saved_model_params.pkl...\n",
      "\n"
     ]
    },
    {
     "name": "stderr",
     "output_type": "stream",
     "text": [
      "/Users/anujdutt/miniconda3/envs/deeplearning/lib/python3.6/site-packages/torch/serialization.py:250: UserWarning: Couldn't retrieve source code for container of type BasicNN. It won't be checked for correctness upon loading.\n",
      "  \"type \" + obj.__name__ + \". It won't be checked \"\n"
     ]
    }
   ],
   "source": [
    "# Train the Model and Save it\n",
    "trainAndSaveNN()"
   ]
  },
  {
   "cell_type": "code",
   "execution_count": 27,
   "metadata": {
    "scrolled": false
   },
   "outputs": [
    {
     "data": {
      "text/plain": [
       "numpy.ndarray"
      ]
     },
     "execution_count": 27,
     "metadata": {},
     "output_type": "execute_result"
    }
   ],
   "source": [
    "cost = np.asarray(cost)\n",
    "type(cost)"
   ]
  },
  {
   "cell_type": "code",
   "execution_count": 28,
   "metadata": {},
   "outputs": [
    {
     "data": {
      "image/png": "[encoded data removed]",
      "text/plain": [
       "<Figure size 720x576 with 1 Axes>"
      ]
     },
     "metadata": {
      "needs_background": "light"
     },
     "output_type": "display_data"
    }
   ],
   "source": [
    "fig = plt.figure(figsize=(10,8))\n",
    "plt.plot(cost)\n",
    "plt.ylabel(\"Cost\")\n",
    "plt.xlabel(\"Iterations\")\n",
    "plt.axis([0,epochs,0,np.max(cost)])\n",
    "plt.show()"
   ]
  },
  {
   "cell_type": "code",
   "execution_count": 29,
   "metadata": {},
   "outputs": [
    {
     "data": {
      "text/plain": [
       "array([4.38087511, 1.92647636, 0.99035513, 0.52577472, 0.2882764 ,\n",
       "       0.16766347, 0.09498059, 0.0525101 , 0.02776921, 0.01503795])"
      ]
     },
     "execution_count": 29,
     "metadata": {},
     "output_type": "execute_result"
    }
   ],
   "source": [
    "cost"
   ]
  }
 ],
 "metadata": {
  "kernelspec": {
   "display_name": "Python 3",
   "language": "python",
   "name": "python3"
  },
  "language_info": {
   "codemirror_mode": {
    "name": "ipython",
    "version": 3
   },
   "file_extension": ".py",
   "mimetype": "text/x-python",
   "name": "python",
   "nbconvert_exporter": "python",
   "pygments_lexer": "ipython3",
   "version": "3.6.7"
  }
 },
 "nbformat": 4,
 "nbformat_minor": 2
}
